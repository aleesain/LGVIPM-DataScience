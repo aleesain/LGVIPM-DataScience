{
  "nbformat": 4,
  "nbformat_minor": 0,
  "metadata": {
    "colab": {
      "name": "Prediction.ipynb",
      "provenance": [],
      "collapsed_sections": []
    },
    "kernelspec": {
      "name": "python3",
      "display_name": "Python 3"
    },
    "language_info": {
      "name": "python"
    }
  },
  "cells": [
    {
      "cell_type": "markdown",
      "source": [
        "#### Author: Muhammad Ali Abbasi"
      ],
      "metadata": {
        "id": "PBpP-p1SqrJ2"
      }
    },
    {
      "cell_type": "markdown",
      "source": [
        "### Advanced Level Task"
      ],
      "metadata": {
        "id": "WUgqfro4q931"
      }
    },
    {
      "cell_type": "markdown",
      "source": [
        "### Task 3: Next Word Prediction"
      ],
      "metadata": {
        "id": "tQIrlov2ra_V"
      }
    },
    {
      "cell_type": "markdown",
      "source": [
        "#### Installing and Importing Libraries"
      ],
      "metadata": {
        "id": "nTRFtMYNr2tf"
      }
    },
    {
      "cell_type": "code",
      "source": [
        "import numpy as np\n",
        "from nltk.tokenize import RegexpTokenizer\n",
        "from keras.models import Sequential, load_model\n",
        "from keras.layers import LSTM\n",
        "from keras.layers.core import Dense, Activation\n",
        "from tensorflow.keras.optimizers import RMSprop\n",
        "import matplotlib.pyplot as plt\n",
        "import pickle\n",
        "import heapq"
      ],
      "metadata": {
        "id": "NaYGgcl8r9tm"
      },
      "execution_count": 1,
      "outputs": []
    },
    {
      "cell_type": "code",
      "source": [
        "path = '/content/1661-0.txt'\n",
        "text = open(path).read().lower()\n",
        "print('Corpus Length:', len(text))"
      ],
      "metadata": {
        "colab": {
          "base_uri": "https://localhost:8080/"
        },
        "id": "qb9cubeXsPUP",
        "outputId": "a2585b03-5074-4b51-faf9-a2efc5fb89c5"
      },
      "execution_count": 4,
      "outputs": [
        {
          "output_type": "stream",
          "name": "stdout",
          "text": [
            "Corpus Length: 581888\n"
          ]
        }
      ]
    },
    {
      "cell_type": "markdown",
      "source": [
        "### Data Processing"
      ],
      "metadata": {
        "id": "rsSzidGY7v_k"
      }
    },
    {
      "cell_type": "code",
      "source": [
        "character = sorted(list(set(text)))\n",
        "char_indices = dict((c, i) for i, c in enumerate(character))\n",
        "indices_char = dict((i, c) for i, c in enumerate(character))\n",
        "print(f'unique chars: {len(character)}')"
      ],
      "metadata": {
        "id": "ElBas1JLtgoM",
        "colab": {
          "base_uri": "https://localhost:8080/"
        },
        "outputId": "a6325afc-34eb-4e14-af96-eb34ef231da6"
      },
      "execution_count": 10,
      "outputs": [
        {
          "output_type": "stream",
          "name": "stdout",
          "text": [
            "unique chars: 73\n"
          ]
        }
      ]
    },
    {
      "cell_type": "code",
      "source": [
        "seq_len = 40\n",
        "step = 3\n",
        "sentences = []\n",
        "next_chars = []\n",
        "for i in range(0, len(text) - seq_len, step):\n",
        "    sentences.append(text[i: i + seq_len ])\n",
        "    next_chars.append(text[i + seq_len])\n",
        "print(f'num training examples: {len(sentences)}')"
      ],
      "metadata": {
        "colab": {
          "base_uri": "https://localhost:8080/"
        },
        "id": "3RsuqjBf7ad1",
        "outputId": "92cf93ad-21c7-42b4-ed69-a9cde83a478f"
      },
      "execution_count": 11,
      "outputs": [
        {
          "output_type": "stream",
          "name": "stdout",
          "text": [
            "num training examples: 193950\n"
          ]
        }
      ]
    },
    {
      "cell_type": "code",
      "source": [
        "X = np.zeros((len(sentences), seq_len, len(character)), dtype=np.bool)\n",
        "y = np.zeros((len(sentences), len(character)), dtype=np.bool)\n",
        "for i, sentence in enumerate(sentences):\n",
        "    for t, char in enumerate(sentence):\n",
        "        X[i, t, char_indices[char]] = 1\n",
        "    y[i, char_indices[next_chars[i]]] = 1\n",
        "\n",
        "sentences[124]\n",
        "next_chars[100]"
      ],
      "metadata": {
        "colab": {
          "base_uri": "https://localhost:8080/",
          "height": 161
        },
        "id": "rcfA3lRA7lT9",
        "outputId": "ac9ceafe-bfa0-4019-eb30-4e426cbb89a3"
      },
      "execution_count": 12,
      "outputs": [
        {
          "output_type": "stream",
          "name": "stderr",
          "text": [
            "/usr/local/lib/python3.7/dist-packages/ipykernel_launcher.py:1: DeprecationWarning: `np.bool` is a deprecated alias for the builtin `bool`. To silence this warning, use `bool` by itself. Doing this will not modify any behavior and is safe. If you specifically wanted the numpy scalar type, use `np.bool_` here.\n",
            "Deprecated in NumPy 1.20; for more details and guidance: https://numpy.org/devdocs/release/1.20.0-notes.html#deprecations\n",
            "  \"\"\"Entry point for launching an IPython kernel.\n",
            "/usr/local/lib/python3.7/dist-packages/ipykernel_launcher.py:2: DeprecationWarning: `np.bool` is a deprecated alias for the builtin `bool`. To silence this warning, use `bool` by itself. Doing this will not modify any behavior and is safe. If you specifically wanted the numpy scalar type, use `np.bool_` here.\n",
            "Deprecated in NumPy 1.20; for more details and guidance: https://numpy.org/devdocs/release/1.20.0-notes.html#deprecations\n",
            "  \n"
          ]
        },
        {
          "output_type": "execute_result",
          "data": {
            "text/plain": [
              "'e'"
            ],
            "application/vnd.google.colaboratory.intrinsic+json": {
              "type": "string"
            }
          },
          "metadata": {},
          "execution_count": 12
        }
      ]
    },
    {
      "cell_type": "code",
      "source": [
        "print(X[0][0])"
      ],
      "metadata": {
        "colab": {
          "base_uri": "https://localhost:8080/"
        },
        "id": "TyQVZgT380_s",
        "outputId": "2818c9f8-a865-4f75-c8ba-a59a61e3d9bd"
      },
      "execution_count": 13,
      "outputs": [
        {
          "output_type": "stream",
          "name": "stdout",
          "text": [
            "[False False False False False False False False False False False False\n",
            " False False False False False False False False False False False False\n",
            " False False False False False False False False False False False False\n",
            " False False False False False False False False False False False False\n",
            " False False False False False False False False False False False False\n",
            " False False False False False False False False False False False False\n",
            "  True]\n"
          ]
        }
      ]
    },
    {
      "cell_type": "code",
      "source": [
        "y[0]"
      ],
      "metadata": {
        "colab": {
          "base_uri": "https://localhost:8080/"
        },
        "id": "w8ppyG_m9GF-",
        "outputId": "b2e142db-70c3-4f36-f4f9-5bd369b846fe"
      },
      "execution_count": 14,
      "outputs": [
        {
          "output_type": "execute_result",
          "data": {
            "text/plain": [
              "array([False, False, False, False, False, False, False, False, False,\n",
              "       False, False, False, False, False, False, False, False, False,\n",
              "       False, False, False, False, False, False, False, False, False,\n",
              "       False, False, False, False, False, False, False, False, False,\n",
              "       False, False, False, False, False, False, False, False, False,\n",
              "       False, False, False, False, False, False,  True, False, False,\n",
              "       False, False, False, False, False, False, False, False, False,\n",
              "       False, False, False, False, False, False, False, False, False,\n",
              "       False])"
            ]
          },
          "metadata": {},
          "execution_count": 14
        }
      ]
    },
    {
      "cell_type": "code",
      "source": [
        "X.shape"
      ],
      "metadata": {
        "colab": {
          "base_uri": "https://localhost:8080/"
        },
        "id": "P0oU6uhD8BWv",
        "outputId": "40d0a157-5414-42c6-f0a3-2920ec9d982f"
      },
      "execution_count": 15,
      "outputs": [
        {
          "output_type": "execute_result",
          "data": {
            "text/plain": [
              "(193950, 40, 73)"
            ]
          },
          "metadata": {},
          "execution_count": 15
        }
      ]
    },
    {
      "cell_type": "code",
      "source": [
        "y.shape"
      ],
      "metadata": {
        "colab": {
          "base_uri": "https://localhost:8080/"
        },
        "id": "gBsGsAuE8HUm",
        "outputId": "f79a58dd-81a9-4cfe-e9de-ed39f3ea83e1"
      },
      "execution_count": 16,
      "outputs": [
        {
          "output_type": "execute_result",
          "data": {
            "text/plain": [
              "(193950, 73)"
            ]
          },
          "metadata": {},
          "execution_count": 16
        }
      ]
    },
    {
      "cell_type": "markdown",
      "source": [
        "### Creating the Model"
      ],
      "metadata": {
        "id": "pu4_rW9A8OIM"
      }
    },
    {
      "cell_type": "code",
      "source": [
        "model = Sequential()\n",
        "model.add(LSTM(128, input_shape=(seq_len, len(character))))\n",
        "model.add(Dense(len(character)))\n",
        "model.add(Activation('softmax'))"
      ],
      "metadata": {
        "id": "OdgH2uX18KJq"
      },
      "execution_count": 17,
      "outputs": []
    },
    {
      "cell_type": "markdown",
      "source": [
        "### Model Summary"
      ],
      "metadata": {
        "id": "3_vjX1-j8gu7"
      }
    },
    {
      "cell_type": "code",
      "source": [
        "model.summary()"
      ],
      "metadata": {
        "colab": {
          "base_uri": "https://localhost:8080/"
        },
        "id": "nZvdID7T8afz",
        "outputId": "84845987-9760-40d2-e815-182d51ea0959"
      },
      "execution_count": 18,
      "outputs": [
        {
          "output_type": "stream",
          "name": "stdout",
          "text": [
            "Model: \"sequential\"\n",
            "_________________________________________________________________\n",
            " Layer (type)                Output Shape              Param #   \n",
            "=================================================================\n",
            " lstm (LSTM)                 (None, 128)               103424    \n",
            "                                                                 \n",
            " dense (Dense)               (None, 73)                9417      \n",
            "                                                                 \n",
            " activation (Activation)     (None, 73)                0         \n",
            "                                                                 \n",
            "=================================================================\n",
            "Total params: 112,841\n",
            "Trainable params: 112,841\n",
            "Non-trainable params: 0\n",
            "_________________________________________________________________\n"
          ]
        }
      ]
    },
    {
      "cell_type": "markdown",
      "source": [
        "### Training The Model"
      ],
      "metadata": {
        "id": "yIwIBEPn9A3P"
      }
    },
    {
      "cell_type": "code",
      "source": [
        "optimizer = RMSprop(learning_rate=0.01)\n",
        "model.compile(loss='categorical_crossentropy', optimizer=optimizer, metrics=['accuracy'])\n",
        "history = model.fit(X, y,\n",
        "                    validation_split=0.01, \n",
        "                    batch_size=128,\n",
        "                    epochs=7, \n",
        "                    shuffle=True).history"
      ],
      "metadata": {
        "colab": {
          "base_uri": "https://localhost:8080/"
        },
        "id": "bxAqJTW-8qHI",
        "outputId": "91d33631-7a08-4a65-f4d0-1eb597aa0106"
      },
      "execution_count": 19,
      "outputs": [
        {
          "output_type": "stream",
          "name": "stdout",
          "text": [
            "Epoch 1/7\n",
            "1501/1501 [==============================] - 187s 123ms/step - loss: 1.9583 - accuracy: 0.4255 - val_loss: 2.1704 - val_accuracy: 0.4082\n",
            "Epoch 2/7\n",
            "1501/1501 [==============================] - 183s 122ms/step - loss: 1.6168 - accuracy: 0.5153 - val_loss: 2.0631 - val_accuracy: 0.4546\n",
            "Epoch 3/7\n",
            "1501/1501 [==============================] - 182s 122ms/step - loss: 1.5223 - accuracy: 0.5421 - val_loss: 2.0235 - val_accuracy: 0.4521\n",
            "Epoch 4/7\n",
            "1501/1501 [==============================] - 190s 127ms/step - loss: 1.4697 - accuracy: 0.5550 - val_loss: 2.0446 - val_accuracy: 0.4603\n",
            "Epoch 5/7\n",
            "1501/1501 [==============================] - 184s 123ms/step - loss: 1.4378 - accuracy: 0.5648 - val_loss: 2.0050 - val_accuracy: 0.4670\n",
            "Epoch 6/7\n",
            "1501/1501 [==============================] - 182s 121ms/step - loss: 1.4122 - accuracy: 0.5711 - val_loss: 2.0318 - val_accuracy: 0.4716\n",
            "Epoch 7/7\n",
            "1501/1501 [==============================] - 182s 121ms/step - loss: 1.3935 - accuracy: 0.5766 - val_loss: 2.0212 - val_accuracy: 0.4794\n"
          ]
        }
      ]
    },
    {
      "cell_type": "markdown",
      "source": [
        "### Saving the Model"
      ],
      "metadata": {
        "id": "yysws0Z9_o_h"
      }
    },
    {
      "cell_type": "code",
      "source": [
        "model.save('NW_keras_model.h5')\n",
        "pickle.dump(history, open(\"history.p\", \"wb\"))"
      ],
      "metadata": {
        "id": "xStI7pfZ9Mzn"
      },
      "execution_count": 20,
      "outputs": []
    },
    {
      "cell_type": "markdown",
      "source": [
        "### Loading The Model"
      ],
      "metadata": {
        "id": "HoG8fVQFCbUv"
      }
    },
    {
      "cell_type": "code",
      "source": [
        "model = load_model('NW_keras_model.h5')\n",
        "history = pickle.load(open(\"history.p\", \"rb\"))"
      ],
      "metadata": {
        "id": "2avlUA0m_-kM"
      },
      "execution_count": 21,
      "outputs": []
    },
    {
      "cell_type": "markdown",
      "source": [
        "### Model Evalutaion"
      ],
      "metadata": {
        "id": "RXxfJ9NvClqq"
      }
    },
    {
      "cell_type": "code",
      "source": [
        "loss_and_acc=model.evaluate(X,y)\n",
        "print(\"Test Loss\", loss_and_acc[0])\n",
        "print(\"Test Accuracy\", loss_and_acc[1])"
      ],
      "metadata": {
        "colab": {
          "base_uri": "https://localhost:8080/"
        },
        "id": "KrjbO0YwCi6w",
        "outputId": "452e82bc-b297-42e9-883b-e74b2d2c28a2"
      },
      "execution_count": 22,
      "outputs": [
        {
          "output_type": "stream",
          "name": "stdout",
          "text": [
            "6061/6061 [==============================] - 96s 16ms/step - loss: 1.3516 - accuracy: 0.5886\n",
            "Test Loss 1.3515654802322388\n",
            "Test Accuracy 0.588579535484314\n"
          ]
        }
      ]
    },
    {
      "cell_type": "markdown",
      "source": [
        "### Plotting and Training Validation Plots"
      ],
      "metadata": {
        "id": "WZv6cjEQC4ko"
      }
    },
    {
      "cell_type": "code",
      "source": [
        "acc = history['accuracy']\n",
        "val_acc = history['val_accuracy']\n",
        "loss = history['loss']\n",
        "val_loss = history['val_loss']\n",
        "epochs = range(len(acc))\n",
        "\n",
        "\n",
        "fig, ax = plt.subplots(nrows=1, ncols=2, figsize=(20, 6))\n",
        "ax[0].plot(epochs, acc, 'y', label='Training accuracy')\n",
        "ax[0].plot(epochs, val_acc, 'g', label='Validation accuracy')\n",
        "ax[0].legend(loc=0)\n",
        "ax[1].plot(epochs, loss, 'y', label='Training loss')\n",
        "ax[1].plot(epochs, val_loss, 'g', label='Validation loss')\n",
        "ax[1].legend(loc=0)\n",
        "\n",
        "plt.suptitle('Training and validation')\n",
        "plt.show()"
      ],
      "metadata": {
        "colab": {
          "base_uri": "https://localhost:8080/",
          "height": 340
        },
        "id": "XLcsbGB9Cw-F",
        "outputId": "1c07a977-6c1a-42af-d66d-d10dbe4f011f"
      },
      "execution_count": 23,
      "outputs": [
        {
          "output_type": "display_data",
          "data": {
            "text/plain": [
              "<Figure size 1440x432 with 2 Axes>"
            ],
            "image/png": "[encoded data removed]"
          },
          "metadata": {
            "needs_background": "light"
          }
        }
      ]
    },
    {
      "cell_type": "code",
      "source": [
        "def prepare_input(text):\n",
        "    x = np.zeros((1, seq_len, len(character)))\n",
        "    for t, char in enumerate(text):\n",
        "        x[0, t, char_indices[char]] = 1.\n",
        "        \n",
        "    return x\n",
        "\n",
        "prepare_input(\"This is an example of input of our model\".lower())"
      ],
      "metadata": {
        "colab": {
          "base_uri": "https://localhost:8080/"
        },
        "id": "EgS8LUU_DK2_",
        "outputId": "32126007-3ee9-44d5-bbab-1cca4ab43f7e"
      },
      "execution_count": 24,
      "outputs": [
        {
          "output_type": "execute_result",
          "data": {
            "text/plain": [
              "array([[[0., 0., 0., ..., 0., 0., 0.],\n",
              "        [0., 0., 0., ..., 0., 0., 0.],\n",
              "        [0., 0., 0., ..., 0., 0., 0.],\n",
              "        ...,\n",
              "        [0., 0., 0., ..., 0., 0., 0.],\n",
              "        [0., 0., 0., ..., 0., 0., 0.],\n",
              "        [0., 0., 0., ..., 0., 0., 0.]]])"
            ]
          },
          "metadata": {},
          "execution_count": 24
        }
      ]
    },
    {
      "cell_type": "markdown",
      "source": [
        "### Functions for next Probable Characters"
      ],
      "metadata": {
        "id": "Nz62LsB0Day9"
      }
    },
    {
      "cell_type": "code",
      "source": [
        "def sample(preds, top_n=3):\n",
        "    preds = np.asarray(preds).astype('float64')\n",
        "    preds = np.log(preds)\n",
        "    exp_preds = np.exp(preds)\n",
        "    preds = exp_preds / np.sum(exp_preds)\n",
        "    \n",
        "    return heapq.nlargest(top_n, range(len(preds)), preds.take)"
      ],
      "metadata": {
        "id": "csZKtSr6DS5M"
      },
      "execution_count": 25,
      "outputs": []
    },
    {
      "cell_type": "code",
      "source": [
        "def predict_completion(text):\n",
        "    original_text = text\n",
        "    generated = text\n",
        "    completion = ''\n",
        "    while True:\n",
        "        x = prepare_input(text)\n",
        "        preds = model.predict(x, verbose=0)[0]\n",
        "        next_index = sample(preds, top_n=1)[0]\n",
        "        next_char = indices_char[next_index]\n",
        "        text = text[1:] + next_char\n",
        "        completion += next_char\n",
        "        \n",
        "        if len(original_text + completion) + 2 > len(original_text) and next_char == ' ':\n",
        "            return completion"
      ],
      "metadata": {
        "id": "r3b7NZ1FDj-D"
      },
      "execution_count": 26,
      "outputs": []
    },
    {
      "cell_type": "code",
      "source": [
        "def predict_completions(text, n=3):\n",
        "    x = prepare_input(text)\n",
        "    preds = model.predict(x, verbose=0)[0]\n",
        "    next_indices = sample(preds, n)\n",
        "    return [indices_char[idx] + predict_completion(text[1:] + indices_char[idx]) for idx in next_indices]"
      ],
      "metadata": {
        "id": "XEc8QKPsDnB0"
      },
      "execution_count": 27,
      "outputs": []
    },
    {
      "cell_type": "markdown",
      "source": [
        "### Prediction"
      ],
      "metadata": {
        "id": "wAg9NU8UD4fK"
      }
    },
    {
      "cell_type": "code",
      "source": [
        "quotes = [\n",
        "          \"You only live once, but if you do it right, once is enough.\",\n",
        "          \"Whether you think you can or you think you can’t, you’re right.\",\n",
        "          \"The journey of a thousand miles begins with one step.\",\n",
        "          \"That which does not kill us makes us stronger.\",\n",
        "          \"Life is what happens when you’re busy making other plans.\"\n",
        "          ]"
      ],
      "metadata": {
        "id": "BNDAlNUjDsHr"
      },
      "execution_count": 34,
      "outputs": []
    },
    {
      "cell_type": "code",
      "source": [
        "for q in quotes:\n",
        "    seq = q[:40].lower()\n",
        "    print(seq)\n",
        "    print(predict_completions(seq, 5))\n",
        "    print()"
      ],
      "metadata": {
        "colab": {
          "base_uri": "https://localhost:8080/"
        },
        "id": "ageJ2YCgLO-I",
        "outputId": "571b03d3-8d20-4463-ebc6-78d2ea7967ee"
      },
      "execution_count": 35,
      "outputs": [
        {
          "output_type": "stream",
          "name": "stdout",
          "text": [
            "you only live once, but if you do it rig\n",
            "['ht ', 'gly ', 'es ', 'al ', 'ner ']\n",
            "\n",
            "whether you think you can or you think y\n",
            "['ou ', 'et ', 'at ', 'ir ', 'luting ']\n",
            "\n",
            "the journey of a thousand miles begins w\n",
            "['hich ', 'ith ', 'ere ', 'as ', 'ould ']\n",
            "\n",
            "that which does not kill us makes us str\n",
            "['eet ', 'ange ', 'ink ', 'uck ', 'ong ']\n",
            "\n",
            "life is what happens when you’re busy ma\n",
            "['n, ', 'rkethes ', 'tters ', 'de ', 'ster ']\n",
            "\n"
          ]
        }
      ]
    }
  ]
}